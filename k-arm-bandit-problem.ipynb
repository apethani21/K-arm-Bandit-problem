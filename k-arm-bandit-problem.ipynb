{
 "cells": [
  {
   "cell_type": "markdown",
   "metadata": {},
   "source": [
    "## The K-arm Bandit problem ##\n",
    "\n",
    "(for k = 5)"
   ]
  },
  {
   "cell_type": "code",
   "execution_count": 36,
   "metadata": {},
   "outputs": [],
   "source": [
    "import numpy as np\n",
    "import matplotlib.pyplot as plt"
   ]
  },
  {
   "cell_type": "code",
   "execution_count": 37,
   "metadata": {},
   "outputs": [],
   "source": [
    "k = 5\n",
    "n = 2000\n",
    "M = np.random.normal(size=(n, k)) \n",
    "# An array containing k lists each of length n\n",
    "\n",
    "reward = lambda row, a: M[row, a] + np.random.normal()"
   ]
  },
  {
   "cell_type": "code",
   "execution_count": 38,
   "metadata": {},
   "outputs": [],
   "source": [
    "# Greedy\n",
    "q_optimum = np.argmax(M, axis = 1)"
   ]
  },
  {
   "cell_type": "code",
   "execution_count": 39,
   "metadata": {},
   "outputs": [],
   "source": [
    "# Epsilon greedy\n",
    "e_greedy = lambda Q, epsilon: np.random.choice(range(5)) if np.random.sample() < epsilon else np.argmax(Q)"
   ]
  },
  {
   "cell_type": "code",
   "execution_count": 40,
   "metadata": {},
   "outputs": [],
   "source": [
    "# Incremental formula\n",
    "update_rule = lambda old_estimate, target, step_size: old_estimate + step_size * (target - old_estimate)"
   ]
  },
  {
   "cell_type": "code",
   "execution_count": 41,
   "metadata": {},
   "outputs": [],
   "source": [
    "Qs = np.zeros(shape=(n, k))\n",
    "steps = 1000\n",
    "epsilon = 0.1\n",
    " \n",
    "ratio_est_opt = np.zeros(shape=(n, steps))\n",
    "rewards_accum = np.zeros(shape=(n, steps))\n",
    "opt_rewards_accum = np.zeros(shape=(n, steps)) + 1/10**8\n",
    "    \n",
    "for i in range(n):\n",
    "    N = np.zeros(k)\n",
    "    for t in range(steps):            \n",
    "        a = e_greedy(Qs[i,:], epsilon)     \n",
    "        r = reward(i, a)\n",
    "        N[a] += 1\n",
    "        Qs[i, a] = update_rule(Qs[i, a], r, 1/N[a])   \n",
    "        if t > 0:\n",
    "            rewards_accum[i, t] = rewards_accum[i, t-1] + r\n",
    "            opt_rewards_accum[i, t] = opt_rewards_accum[i, t-1] + reward(i, q_optimum[i])\n",
    "\n",
    "avg_rewards_accum = np.mean(rewards_accum, 0)\n",
    "avg_opt_rewards_accum = np.mean(opt_rewards_accum, 0)\n",
    "avg_ratio_est_vs_opt = avg_rewards_accum / avg_opt_rewards_accum"
   ]
  },
  {
   "cell_type": "code",
   "execution_count": 44,
   "metadata": {},
   "outputs": [
    {
     "data": {
      "image/png": "[encoded data removed]",
      "text/plain": [
       "<Figure size 576x432 with 1 Axes>"
      ]
     },
     "metadata": {
      "needs_background": "light"
     },
     "output_type": "display_data"
    }
   ],
   "source": [
    "plt.figure(figsize = (8, 6))\n",
    "plt.plot(avg_ratio_est_vs_opt);\n",
    "plt.grid()"
   ]
  },
  {
   "cell_type": "code",
   "execution_count": null,
   "metadata": {},
   "outputs": [],
   "source": []
  }
 ],
 "metadata": {
  "kernelspec": {
   "display_name": "Python 3",
   "language": "python",
   "name": "python3"
  },
  "language_info": {
   "codemirror_mode": {
    "name": "ipython",
    "version": 3
   },
   "file_extension": ".py",
   "mimetype": "text/x-python",
   "name": "python",
   "nbconvert_exporter": "python",
   "pygments_lexer": "ipython3",
   "version": "3.6.5"
  }
 },
 "nbformat": 4,
 "nbformat_minor": 2
}
